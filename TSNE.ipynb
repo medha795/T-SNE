{
 "cells": [
  {
   "cell_type": "code",
   "execution_count": 1,
   "id": "editorial-celebrity",
   "metadata": {},
   "outputs": [],
   "source": [
    "import pandas as pd \n",
    "pd.options.mode.chained_assignment = None \n",
    "import numpy as np \n",
    "import re \n",
    "import nltk \n",
    "\n",
    "from gensim.models import word2vec \n",
    "from gensim.models.word2vec import LineSentence\n",
    "\n",
    "from sklearn.manifold import TSNE \n",
    "import matplotlib.pyplot as plt \n",
    "%matplotlib inline "
   ]
  },
  {
   "cell_type": "code",
   "execution_count": 2,
   "id": "transparent-heritage",
   "metadata": {},
   "outputs": [],
   "source": [
    "false_data = pd.read_csv('fakedata.csv').sample(5000, replace = True, random_state = 23)\n",
    "true_data = pd.read_csv('realdata.csv').sample(5000, replace = True, random_state = 23)"
   ]
  },
  {
   "cell_type": "code",
   "execution_count": 3,
   "id": "stock-child",
   "metadata": {},
   "outputs": [
    {
     "data": {
      "text/html": [
       "<div>\n",
       "<style scoped>\n",
       "    .dataframe tbody tr th:only-of-type {\n",
       "        vertical-align: middle;\n",
       "    }\n",
       "\n",
       "    .dataframe tbody tr th {\n",
       "        vertical-align: top;\n",
       "    }\n",
       "\n",
       "    .dataframe thead th {\n",
       "        text-align: right;\n",
       "    }\n",
       "</style>\n",
       "<table border=\"1\" class=\"dataframe\">\n",
       "  <thead>\n",
       "    <tr style=\"text-align: right;\">\n",
       "      <th></th>\n",
       "      <th>Unnamed: 0</th>\n",
       "      <th>Unnamed: 0.1</th>\n",
       "      <th>Title</th>\n",
       "      <th>Article</th>\n",
       "      <th>Headline</th>\n",
       "      <th>Title_URL</th>\n",
       "      <th>Image</th>\n",
       "      <th>Facebook_likes</th>\n",
       "      <th>Facebook_comments</th>\n",
       "      <th>Facebook_shares</th>\n",
       "      <th>Comment_replies</th>\n",
       "      <th>results</th>\n",
       "    </tr>\n",
       "  </thead>\n",
       "  <tbody>\n",
       "    <tr>\n",
       "      <th>595</th>\n",
       "      <td>828</td>\n",
       "      <td>828</td>\n",
       "      <td>Fox News</td>\n",
       "      <td>biden administration pulled plug border wall c...</td>\n",
       "      <td>Border county sheriff says Sinaloa cartel brin...</td>\n",
       "      <td>https://www.facebook.com/FoxNews/?__cft__[0]=A...</td>\n",
       "      <td>https://external-sjc3-1.xx.fbcdn.net/safe_imag...</td>\n",
       "      <td>68000.0</td>\n",
       "      <td>43000.0</td>\n",
       "      <td>15000.0</td>\n",
       "      <td>0</td>\n",
       "      <td>'FAKE'</td>\n",
       "    </tr>\n",
       "    <tr>\n",
       "      <th>742</th>\n",
       "      <td>1087</td>\n",
       "      <td>44</td>\n",
       "      <td>Conservative Post</td>\n",
       "      <td>even liberal media fed biden administration la...</td>\n",
       "      <td>Even Liberal Media Fed Up With Biden Administr...</td>\n",
       "      <td>https://www.facebook.com/heyconservativepost/?...</td>\n",
       "      <td>https://l.facebook.com/l.php?u=https%3A%2F%2Fc...</td>\n",
       "      <td>433.0</td>\n",
       "      <td>299.0</td>\n",
       "      <td>2800.0</td>\n",
       "      <td>0</td>\n",
       "      <td>'FAKE'</td>\n",
       "    </tr>\n",
       "    <tr>\n",
       "      <th>1064</th>\n",
       "      <td>1454</td>\n",
       "      <td>411</td>\n",
       "      <td>BBC</td>\n",
       "      <td>patch green always important neha shes fightin...</td>\n",
       "      <td>This 'patch of green' has always been importan...</td>\n",
       "      <td>https://www.facebook.com/bbc/?hc_ref=ARTPg1uVP...</td>\n",
       "      <td>https://www.facebook.com/bbc/?ref=nf&amp;hc_ref=AR...</td>\n",
       "      <td>973.0</td>\n",
       "      <td>27.0</td>\n",
       "      <td>6200.0</td>\n",
       "      <td>0</td>\n",
       "      <td>'FAKE'</td>\n",
       "    </tr>\n",
       "    <tr>\n",
       "      <th>950</th>\n",
       "      <td>1334</td>\n",
       "      <td>291</td>\n",
       "      <td>Conservative Post</td>\n",
       "      <td>tax paying americans forced pay california pro...</td>\n",
       "      <td>House Covid Bill Includes Over $100 Million Fo...</td>\n",
       "      <td>https://www.facebook.com/heyconservativepost/?...</td>\n",
       "      <td>https://l.facebook.com/l.php?u=https%3A%2F%2Fc...</td>\n",
       "      <td>101.0</td>\n",
       "      <td>647.0</td>\n",
       "      <td>145.0</td>\n",
       "      <td>0</td>\n",
       "      <td>'FAKE'</td>\n",
       "    </tr>\n",
       "    <tr>\n",
       "      <th>31</th>\n",
       "      <td>51</td>\n",
       "      <td>51</td>\n",
       "      <td>CNN</td>\n",
       "      <td>us border patrol detained 11000 unaccompanied ...</td>\n",
       "      <td>Border Patrol has detained more unaccompanied ...</td>\n",
       "      <td>https://www.facebook.com/cnn/?__cft__[0]=AZXpa...</td>\n",
       "      <td>https://external-sjc3-1.xx.fbcdn.net/safe_imag...</td>\n",
       "      <td>617.0</td>\n",
       "      <td>1200.0</td>\n",
       "      <td>103.0</td>\n",
       "      <td>57</td>\n",
       "      <td>'FAKE'</td>\n",
       "    </tr>\n",
       "  </tbody>\n",
       "</table>\n",
       "</div>"
      ],
      "text/plain": [
       "      Unnamed: 0  Unnamed: 0.1              Title  \\\n",
       "595          828           828           Fox News   \n",
       "742         1087            44  Conservative Post   \n",
       "1064        1454           411                BBC   \n",
       "950         1334           291  Conservative Post   \n",
       "31            51            51                CNN   \n",
       "\n",
       "                                                Article  \\\n",
       "595   biden administration pulled plug border wall c...   \n",
       "742   even liberal media fed biden administration la...   \n",
       "1064  patch green always important neha shes fightin...   \n",
       "950   tax paying americans forced pay california pro...   \n",
       "31    us border patrol detained 11000 unaccompanied ...   \n",
       "\n",
       "                                               Headline  \\\n",
       "595   Border county sheriff says Sinaloa cartel brin...   \n",
       "742   Even Liberal Media Fed Up With Biden Administr...   \n",
       "1064  This 'patch of green' has always been importan...   \n",
       "950   House Covid Bill Includes Over $100 Million Fo...   \n",
       "31    Border Patrol has detained more unaccompanied ...   \n",
       "\n",
       "                                              Title_URL  \\\n",
       "595   https://www.facebook.com/FoxNews/?__cft__[0]=A...   \n",
       "742   https://www.facebook.com/heyconservativepost/?...   \n",
       "1064  https://www.facebook.com/bbc/?hc_ref=ARTPg1uVP...   \n",
       "950   https://www.facebook.com/heyconservativepost/?...   \n",
       "31    https://www.facebook.com/cnn/?__cft__[0]=AZXpa...   \n",
       "\n",
       "                                                  Image  Facebook_likes  \\\n",
       "595   https://external-sjc3-1.xx.fbcdn.net/safe_imag...         68000.0   \n",
       "742   https://l.facebook.com/l.php?u=https%3A%2F%2Fc...           433.0   \n",
       "1064  https://www.facebook.com/bbc/?ref=nf&hc_ref=AR...           973.0   \n",
       "950   https://l.facebook.com/l.php?u=https%3A%2F%2Fc...           101.0   \n",
       "31    https://external-sjc3-1.xx.fbcdn.net/safe_imag...           617.0   \n",
       "\n",
       "      Facebook_comments  Facebook_shares Comment_replies results  \n",
       "595             43000.0          15000.0               0  'FAKE'  \n",
       "742               299.0           2800.0               0  'FAKE'  \n",
       "1064               27.0           6200.0               0  'FAKE'  \n",
       "950               647.0            145.0               0  'FAKE'  \n",
       "31               1200.0            103.0              57  'FAKE'  "
      ]
     },
     "execution_count": 3,
     "metadata": {},
     "output_type": "execute_result"
    }
   ],
   "source": [
    "STOP_WORDS = nltk.corpus.stopwords.words()\n",
    "\n",
    "def clean_sentence(val):\n",
    "    \"remove chars that are not letters or numbers, downcase, then remove stop words\"\n",
    "    regex = re.compile('([^\\s\\w]|_)+')\n",
    "    sentence = regex.sub('',val).lower()\n",
    "    sentence = sentence.split(\" \")\n",
    "    \n",
    "    for word in list(sentence):\n",
    "        if word in STOP_WORDS: \n",
    "            sentence.remove(word)\n",
    "    \n",
    "    sentence = \" \".join(sentence)\n",
    "    return sentence \n",
    "\n",
    "def clean_dataframe(data):\n",
    "    \"drop nans, then apply 'clean_sentence' function to question1 and 2\"\n",
    "    data = false_data.dropna(how= \"any\")\n",
    "    \n",
    "    for col in ['Article']: \n",
    "        data[col] = data[col].apply(clean_sentence)\n",
    "    return data \n",
    "\n",
    "false_data = clean_dataframe(false_data)\n",
    "false_data.head(5)\n"
   ]
  },
  {
   "cell_type": "code",
   "execution_count": 4,
   "id": "funded-causing",
   "metadata": {},
   "outputs": [],
   "source": [
    "true_data = clean_dataframe(true_data)"
   ]
  },
  {
   "cell_type": "code",
   "execution_count": 5,
   "id": "optical-chase",
   "metadata": {},
   "outputs": [
    {
     "name": "stdout",
     "output_type": "stream",
     "text": [
      "4327\n"
     ]
    }
   ],
   "source": [
    "def build_corpus(data):\n",
    "    corpus = []\n",
    "    for col in ['Article']:\n",
    "        for sentence in data[col].iteritems():\n",
    "            word_list = sentence[1].split(\" \")\n",
    "            corpus.append(word_list)\n",
    "    return corpus \n",
    "\n",
    "corpus = build_corpus(false_data)\n",
    "print(len(corpus))"
   ]
  },
  {
   "cell_type": "code",
   "execution_count": 6,
   "id": "published-worship",
   "metadata": {},
   "outputs": [],
   "source": [
    "model = word2vec.Word2Vec(corpus, size=100, window=20, min_count=200, workers=4)"
   ]
  },
  {
   "cell_type": "code",
   "execution_count": 7,
   "id": "suspected-decimal",
   "metadata": {},
   "outputs": [
    {
     "name": "stdout",
     "output_type": "stream",
     "text": [
      "4327\n"
     ]
    }
   ],
   "source": [
    "true_corpus = build_corpus(true_data)\n",
    "print(len(true_corpus))"
   ]
  },
  {
   "cell_type": "code",
   "execution_count": 8,
   "id": "opening-physiology",
   "metadata": {},
   "outputs": [],
   "source": [
    "model.save(\"word2vecmodel\")"
   ]
  },
  {
   "cell_type": "code",
   "execution_count": 9,
   "id": "rational-dylan",
   "metadata": {},
   "outputs": [],
   "source": [
    "model_true = word2vec.Word2Vec(true_corpus, size=90, window=15, min_count=100, workers=4)"
   ]
  },
  {
   "cell_type": "code",
   "execution_count": 10,
   "id": "legendary-award",
   "metadata": {},
   "outputs": [],
   "source": [
    "model_true.save(\"word2vecmodel_true\")"
   ]
  },
  {
   "cell_type": "code",
   "execution_count": 11,
   "id": "backed-diagnosis",
   "metadata": {},
   "outputs": [],
   "source": [
    "def tsne_plot(model):\n",
    "    labels = []\n",
    "    tokens = []\n",
    "    \n",
    "    for word in model.wv.vocab: \n",
    "        tokens.append(model[word])\n",
    "        labels.append(word)\n",
    "    \n",
    "    tsne_model = TSNE(perplexity=40, n_components=2, init='pca', n_iter=2500, random_state=23)\n",
    "    new_values = tsne_model.fit_transform(tokens)\n",
    "    \n",
    "    x = []\n",
    "    y = []\n",
    "    for value in new_values: \n",
    "        x.append(value[0])\n",
    "        y.append(value[1])\n",
    "    \n",
    "    plt.figure(figsize=(16,16))\n",
    "    for i in range(len(x)):\n",
    "        plt.scatter(x[i],y[i])\n",
    "        plt.annotate(labels[i],xy=(x[i],y[i]),xytext=(5,2),textcoords='offset points',ha='right',va='bottom')\n",
    "        if i >100:\n",
    "            break \n",
    "        plt.show()"
   ]
  },
  {
   "cell_type": "code",
   "execution_count": 12,
   "id": "activated-elements",
   "metadata": {},
   "outputs": [
    {
     "name": "stderr",
     "output_type": "stream",
     "text": [
      "<ipython-input-11-910eeaa9da5d>:6: DeprecationWarning: Call to deprecated `__getitem__` (Method will be removed in 4.0.0, use self.wv.__getitem__() instead).\n",
      "  tokens.append(model[word])\n"
     ]
    },
    {
     "data": {
      "image/png": "[encoded data removed]",
      "text/plain": [
       "<Figure size 1152x1152 with 1 Axes>"
      ]
     },
     "metadata": {
      "needs_background": "light"
     },
     "output_type": "display_data"
    },
    {
     "data": {
      "image/png": "[encoded data removed]",
      "text/plain": [
       "<Figure size 432x288 with 1 Axes>"
      ]
     },
     "metadata": {
      "needs_background": "light"
     },
     "output_type": "display_data"
    },
    {
     "data": {
      "image/png": "[encoded data removed]",
      "text/plain": [
       "<Figure size 432x288 with 1 Axes>"
      ]
     },
     "metadata": {
      "needs_background": "light"
     },
     "output_type": "display_data"
    },
    {
     "data": {
      "image/png": "[encoded data removed]",
      "text/plain": [
       "<Figure size 432x288 with 1 Axes>"
      ]
     },
     "metadata": {
      "needs_background": "light"
     },
     "output_type": "display_data"
    },
    {
     "data": {
      "image/png": "[encoded data removed]",
      "text/plain": [
       "<Figure size 432x288 with 1 Axes>"
      ]
     },
     "metadata": {
      "needs_background": "light"
     },
     "output_type": "display_data"
    }
   ],
   "source": [
    "tsne_plot(model)"
   ]
  }
 ],
 "metadata": {
  "kernelspec": {
   "display_name": "Python 3",
   "language": "python",
   "name": "python3"
  },
  "language_info": {
   "codemirror_mode": {
    "name": "ipython",
    "version": 3
   },
   "file_extension": ".py",
   "mimetype": "text/x-python",
   "name": "python",
   "nbconvert_exporter": "python",
   "pygments_lexer": "ipython3",
   "version": "3.8.3"
  }
 },
 "nbformat": 4,
 "nbformat_minor": 5
}
